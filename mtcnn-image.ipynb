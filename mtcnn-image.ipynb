{
 "cells": [
  {
   "cell_type": "code",
   "execution_count": 1,
   "metadata": {},
   "outputs": [
    {
     "name": "stderr",
     "output_type": "stream",
     "text": [
      "/home/siwan/anaconda3/lib/python3.6/site-packages/h5py/__init__.py:36: FutureWarning: Conversion of the second argument of issubdtype from `float` to `np.floating` is deprecated. In future, it will be treated as `np.float64 == np.dtype(float).type`.\n",
      "  from ._conv import register_converters as _register_converters\n"
     ]
    }
   ],
   "source": [
    "import cv2\n",
    "from mtcnn.mtcnn import MTCNN"
   ]
  },
  {
   "cell_type": "code",
   "execution_count": 2,
   "metadata": {},
   "outputs": [
    {
     "name": "stdout",
     "output_type": "stream",
     "text": [
      "WARNING:tensorflow:From /home/siwan/Documents/opencv/mtcnn/layer_factory.py:211: calling reduce_max (from tensorflow.python.ops.math_ops) with keep_dims is deprecated and will be removed in a future version.\n",
      "Instructions for updating:\n",
      "keep_dims is deprecated, use keepdims instead\n",
      "WARNING:tensorflow:From /home/siwan/Documents/opencv/mtcnn/layer_factory.py:213: calling reduce_sum (from tensorflow.python.ops.math_ops) with keep_dims is deprecated and will be removed in a future version.\n",
      "Instructions for updating:\n",
      "keep_dims is deprecated, use keepdims instead\n",
      "[{'box': [121, 89, 20, 25], 'confidence': 0.9996954202651978, 'keypoints': {'left_eye': (126, 100), 'right_eye': (136, 98), 'nose': (130, 105), 'mouth_left': (127, 109), 'mouth_right': (136, 108)}}]\n"
     ]
    }
   ],
   "source": [
    "image = cv2.imread(\"sii.jpg\")\n",
    "detector = MTCNN()\n",
    "print(detector.detect_faces(image))"
   ]
  },
  {
   "cell_type": "code",
   "execution_count": 3,
   "metadata": {},
   "outputs": [],
   "source": [
    "\n",
    "result = detector.detect_faces(image)"
   ]
  },
  {
   "cell_type": "code",
   "execution_count": 4,
   "metadata": {},
   "outputs": [
    {
     "data": {
      "text/plain": [
       "array([[[148, 178, 149],\n",
       "        [122, 152, 123],\n",
       "        [127, 155, 126],\n",
       "        ...,\n",
       "        [128, 147, 130],\n",
       "        [104, 123, 106],\n",
       "        [103, 122, 105]],\n",
       "\n",
       "       [[158, 186, 157],\n",
       "        [143, 171, 142],\n",
       "        [129, 157, 128],\n",
       "        ...,\n",
       "        [100, 119, 102],\n",
       "        [104, 123, 106],\n",
       "        [128, 147, 130]],\n",
       "\n",
       "       [[161, 187, 157],\n",
       "        [158, 184, 154],\n",
       "        [125, 151, 121],\n",
       "        ...,\n",
       "        [ 95, 117,  98],\n",
       "        [117, 139, 120],\n",
       "        [131, 153, 134]],\n",
       "\n",
       "       ...,\n",
       "\n",
       "       [[170, 225, 198],\n",
       "        [153, 211, 182],\n",
       "        [120, 179, 148],\n",
       "        ...,\n",
       "        [ 97, 155, 120],\n",
       "        [ 90, 150, 110],\n",
       "        [ 98, 161, 119]],\n",
       "\n",
       "       [[150, 205, 178],\n",
       "        [141, 199, 170],\n",
       "        [114, 173, 142],\n",
       "        ...,\n",
       "        [108, 166, 131],\n",
       "        [ 99, 159, 119],\n",
       "        [ 87, 150, 108]],\n",
       "\n",
       "       [[100, 155, 128],\n",
       "        [119, 177, 148],\n",
       "        [119, 178, 147],\n",
       "        ...,\n",
       "        [116, 174, 139],\n",
       "        [100, 160, 120],\n",
       "        [ 60, 123,  81]]], dtype=uint8)"
      ]
     },
     "execution_count": 4,
     "metadata": {},
     "output_type": "execute_result"
    }
   ],
   "source": [
    "bounding_box = result[0]['box']\n",
    "keypoints = result[0]['keypoints']\n",
    "cv2.rectangle(image,\n",
    "              (bounding_box[0], bounding_box[1]),\n",
    "              (bounding_box[0]+bounding_box[2], bounding_box[1] + bounding_box[3]),\n",
    "              (0,155,255),\n",
    "              2)\n",
    "cv2.circle(image,(keypoints['left_eye']), 2, (0,155,255), 2)\n",
    "cv2.circle(image,(keypoints['right_eye']), 2, (0,155,255), 2)\n",
    "cv2.circle(image,(keypoints['nose']), 2, (0,155,255), 2)\n",
    "cv2.circle(image,(keypoints['mouth_left']), 2, (0,155,255), 2)\n",
    "cv2.circle(image,(keypoints['mouth_right']), 2, (0,155,255), 2)"
   ]
  },
  {
   "cell_type": "code",
   "execution_count": null,
   "metadata": {},
   "outputs": [],
   "source": [
    "cv2.imwrite(\"ivan_drawn.jpg\", image)\n",
    "cv2.namedWindow(\"image\")\n",
    "cv2.imshow(\"image\",image)\n",
    "cv2.waitKey(0)"
   ]
  },
  {
   "cell_type": "code",
   "execution_count": null,
   "metadata": {},
   "outputs": [],
   "source": []
  }
 ],
 "metadata": {
  "kernelspec": {
   "display_name": "Python 3",
   "language": "python",
   "name": "python3"
  },
  "language_info": {
   "codemirror_mode": {
    "name": "ipython",
    "version": 3
   },
   "file_extension": ".py",
   "mimetype": "text/x-python",
   "name": "python",
   "nbconvert_exporter": "python",
   "pygments_lexer": "ipython3",
   "version": "3.6.5"
  }
 },
 "nbformat": 4,
 "nbformat_minor": 2
}
